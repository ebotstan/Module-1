{
 "cells": [
  {
   "cell_type": "markdown",
   "metadata": {},
   "source": [
    "## Questions"
   ]
  },
  {
   "cell_type": "markdown",
   "metadata": {},
   "source": [
    "1. What is a hardware?\n",
    "\n",
    "A hardware refers to the physical attributes or characteristics of a computer. It includes the case, the CPU, keyboard, monitor and keyboard as well as other tangible components. "
   ]
  },
  {
   "cell_type": "markdown",
   "metadata": {},
   "source": [
    "2. What is a software?\n",
    "\n",
    "A softare is the programs or the set of instructions that are used to opperate a computer and perform specific tasks. It tells the computer how to work. "
   ]
  },
  {
   "cell_type": "markdown",
   "metadata": {},
   "source": []
  },
  {
   "cell_type": "markdown",
   "metadata": {},
   "source": [
    "3. Convert 10011001 to a decimal number\n",
    "   \n",
    "   153    1*(2^7) + 0 + 0 + 1*(2^4) + 1*(2^3) + 0 + 0 + 1*(2^0)"
   ]
  },
  {
   "cell_type": "markdown",
   "metadata": {},
   "source": []
  },
  {
   "cell_type": "markdown",
   "metadata": {},
   "source": [
    "4. Convert 11101100 to a decimal number\n",
    "     \n",
    "     236"
   ]
  },
  {
   "cell_type": "markdown",
   "metadata": {},
   "source": []
  },
  {
   "cell_type": "markdown",
   "metadata": {},
   "source": [
    "5. Decode this secret message:\n",
    "01001100 01101111 01100111 01101001 01100011\n",
    "\n",
    "76        111      103       105       99\n",
    "L          o        g         i         c        the code is \" Logic \""
   ]
  },
  {
   "cell_type": "markdown",
   "metadata": {},
   "source": []
  },
  {
   "cell_type": "markdown",
   "metadata": {},
   "source": [
    "6. Identify and explain stages of Programming.\n",
    "\n",
    "The stages are :\n",
    "Analyze, Plan, Code, Test, Maintenance\n",
    "\n",
    "-In Analyze; the problem is identified, divided into segments to easily analyze and the Re-grouped for full assessment. \n",
    "-Planning involves the IPO and the algorithm to be used for the program. The IPO is the input, processing and output from the data input.\n",
    "-Coding is the actual language used to solve the problem. \n",
    "-Testing involves: Unit Test, System test and Integration test. This ensures the program can run smoothly and solve the problem. \n",
    "-Maintenace includes: Bug fix, Enhancement and Documentation. This is for error-correction. \n",
    "\n",
    "\n"
   ]
  },
  {
   "cell_type": "markdown",
   "metadata": {},
   "source": []
  },
  {
   "cell_type": "markdown",
   "metadata": {},
   "source": [
    "7. You need to write a program to compute total sales amount when sales tax is 5%. Identify IPO (inpt, process, output) for this program.\n",
    "\n",
    "sales = float(input(\"What is the total sales? \"))\n",
    "total-sales = sales + (sales * 0.05)\n",
    "\n",
    "input = sales \n",
    "Process = sales + (sale * 0.05) \n",
    "output = $ (dollars) amount ($process)"
   ]
  },
  {
   "cell_type": "markdown",
   "metadata": {},
   "source": []
  },
  {
   "cell_type": "markdown",
   "metadata": {},
   "source": [
    "8. Identify IPO for converting liters to US gallons.\n",
    "\n",
    "input = liters\n",
    "process = liters x 0.26 gallon/liter\n",
    "output = gallons"
   ]
  },
  {
   "cell_type": "markdown",
   "metadata": {},
   "source": []
  },
  {
   "cell_type": "markdown",
   "metadata": {},
   "source": [
    "9. Identify IPO for computing a worker's pay. What information/data do you need?\n",
    "input = number of hours worked (hrs)\n",
    "process = hrs x rate in dollars/hr\n",
    "output = dollars"
   ]
  },
  {
   "cell_type": "markdown",
   "metadata": {},
   "source": []
  },
  {
   "cell_type": "markdown",
   "metadata": {},
   "source": []
  }
 ],
 "metadata": {
  "kernelspec": {
   "display_name": "Python 3 (ipykernel)",
   "language": "python",
   "name": "python3"
  },
  "language_info": {
   "codemirror_mode": {
    "name": "ipython",
    "version": 3
   },
   "file_extension": ".py",
   "mimetype": "text/x-python",
   "name": "python",
   "nbconvert_exporter": "python",
   "pygments_lexer": "ipython3",
   "version": "3.9.7"
  }
 },
 "nbformat": 4,
 "nbformat_minor": 4
}
